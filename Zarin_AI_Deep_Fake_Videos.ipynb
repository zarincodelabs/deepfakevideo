{
  "nbformat": 4,
  "nbformat_minor": 0,
  "metadata": {
    "colab": {
      "provenance": [],
      "gpuType": "T4",
      "include_colab_link": true
    },
    "kernelspec": {
      "name": "python3",
      "display_name": "Python 3"
    },
    "language_info": {
      "name": "python"
    },
    "accelerator": "GPU"
  },
  "cells": [
    {
      "cell_type": "markdown",
      "metadata": {
        "id": "view-in-github",
        "colab_type": "text"
      },
      "source": [
        "<a href=\"https://colab.research.google.com/github/zarincodelabs/deepfakevideo/blob/main/Zarin_AI_Deep_Fake_Videos.ipynb\" target=\"_parent\"><img src=\"https://colab.research.google.com/assets/colab-badge.svg\" alt=\"Open In Colab\"/></a>"
      ]
    },
    {
      "cell_type": "markdown",
      "source": [
        "<p><a href=\"https://www.youtube.com/@anas-muhammad?sub_confirmation=1\"><strong>Subscribe To My Youtube Channel For More Updates And Tutorials</strong></a></p>\n",
        "<h2>Some of our Services</h2>\n",
        "<p><a href=\"https://www.youtube.com/@anas-muhammad?sub_confirmation=1\"><strong>For Website, Mobile App & Software Development or Digital Marketing visit our website or Chat with us on Whatsapp</strong>\n",
        "</p>\n",
        "<a href=\"https://www.youtube.com/@anas-muhammad\" style=\"margin-left: 1em; margin-right: 1em;\"><img border=\"0\" data-original-height=\"500\" data-original-width=\"500\" height=\"200\" src=\"https://photos.zarin.solutions/logos/anas/youtube.png\" width=\"200\" /></a>\n",
        "<a href=\"https://www.youtube.com/@anas-muhammad?sub_confirmation=1\" style=\"margin-left: 1em; margin-right: 1em;\"><img border=\"0\" data-original-height=\"500\" data-original-width=\"500\" height=\"200\" src=\"https://photos.zarin.solutions/logos/anas/web.png\" width=\"200\" /></a>\n",
        "<a href=\"https://api.whatsapp.com/send/?phone=923051766663\" style=\"margin-left: 1em; margin-right: 1em;\"><img border=\"0\" data-original-height=\"500\" data-original-width=\"500\" height=\"200\" src=\"https://photos.zarin.solutions/logos/anas/whatsapp.png\" width=\"200\" /></a>\n",
        "<a href=\"https://zarinsolutions.com/\" style=\"margin-left: 1em; margin-right: 1em;\"><img border=\"0\" data-original-height=\"500\" data-original-width=\"500\" height=\"180\" src=\"https://photos.zarin.solutions/logos/zarin/logolandlow.png\" width=\"400\" /></a>"
      ],
      "metadata": {
        "id": "G9BdiCppV6AS"
      }
    },
    {
      "cell_type": "markdown",
      "source": [
        "---\n",
        "✋\n",
        "<p><b><span style=\"font-size: medium;\">If You See This Message:</span></b></p><p><b><span style=\"color: red; font-size: medium;\">RESTART RUNTIME</span></b></p><p><b><span style=\"font-size: medium;\">Ignore it and move to the next step</span></b></p>\n",
        "\n",
        "---"
      ],
      "metadata": {
        "id": "o46tI8deM8IL"
      }
    },
    {
      "cell_type": "code",
      "execution_count": null,
      "metadata": {
        "id": "t1yPuhdySqCq",
        "cellView": "form"
      },
      "outputs": [],
      "source": [
        "#@markdown ## Step 1 : Installing Roop (3 Minutes)\n",
        "!git clone https://github.com/FurkanGozukara/roop\n",
        "%cd roop\n",
        "#Tested and updated 23 August 2023 commit\n",
        "#!git checkout da1ef285f1d43bd0cc8b9cdb9a0f80f7ae793a97\n",
        "!pip install onnxruntime-gpu && pip install -r requirements.txt\n",
        "\n",
        "from IPython.display import clear_output\n",
        "clear_output()"
      ]
    },
    {
      "cell_type": "code",
      "source": [
        "#@markdown ## Step 2 : Upload Video\n",
        "\n",
        "import os\n",
        "import shutil\n",
        "from google.colab import drive\n",
        "from google.colab import files\n",
        "from IPython.display import HTML, clear_output\n",
        "from base64 import b64encode\n",
        "import moviepy.editor as mp\n",
        "\n",
        "\n",
        "def showVideo(file_path):\n",
        "    \"\"\"Function to display video in Colab\"\"\"\n",
        "    mp4 = open(file_path,'rb').read()\n",
        "    data_url = \"data:video/mp4;base64,\" + b64encode(mp4).decode()\n",
        "    display(HTML(\"\"\"\n",
        "    <video controls width=600>\n",
        "        <source src=\"%s\" type=\"video/mp4\">\n",
        "    </video>\n",
        "    \"\"\" % data_url))\n",
        "\n",
        "def get_video_resolution(video_path):\n",
        "    \"\"\"Function to get the resolution of a video\"\"\"\n",
        "    import cv2\n",
        "    video = cv2.VideoCapture(video_path)\n",
        "    width = int(video.get(cv2.CAP_PROP_FRAME_WIDTH))\n",
        "    height = int(video.get(cv2.CAP_PROP_FRAME_HEIGHT))\n",
        "    return (width, height)\n",
        "\n",
        "def resize_video(video_path, new_resolution):\n",
        "    \"\"\"Function to resize a video\"\"\"\n",
        "    import cv2\n",
        "    video = cv2.VideoCapture(video_path)\n",
        "    fourcc = int(video.get(cv2.CAP_PROP_FOURCC))\n",
        "    fps = video.get(cv2.CAP_PROP_FPS)\n",
        "    width, height = new_resolution\n",
        "    output_path = os.path.splitext(video_path)[0] + '_720p.mp4'\n",
        "    writer = cv2.VideoWriter(output_path, fourcc, fps, (width, height))\n",
        "    while True:\n",
        "        success, frame = video.read()\n",
        "        if not success:\n",
        "            break\n",
        "        resized_frame = cv2.resize(frame, new_resolution)\n",
        "        writer.write(resized_frame)\n",
        "    video.release()\n",
        "    writer.release()\n",
        "\n",
        "upload_method = \"Upload\" #@param [\"Upload\"]\n",
        "\n",
        "\n",
        "# remove previous input video\n",
        "if os.path.isfile('/content/roop/video.mp4'):\n",
        "    os.remove('/content/roop/video.mp4')\n",
        "\n",
        "if upload_method == \"Upload\":\n",
        "    uploaded = files.upload()\n",
        "    for filename in uploaded.keys():\n",
        "        os.rename(filename, '/content/roop/video.mp4')\n",
        "    PATH_TO_YOUR_VIDEO = '/content/roop/video.mp4'\n",
        "\n",
        "\n",
        "video_duration = mp.VideoFileClip(PATH_TO_YOUR_VIDEO).duration\n",
        "if video_duration > 60:\n",
        "    print(\"WARNING: Video duration exceeds 60 seconds. Please upload a shorter video.\")\n",
        "    raise SystemExit(0)\n",
        "\n",
        "video_resolution = get_video_resolution(PATH_TO_YOUR_VIDEO)\n",
        "print(f\"Video resolution: {video_resolution}\")\n",
        "if video_resolution[0] >= 1920 or video_resolution[1] >= 1080:\n",
        "    print(\"Resizing video to 720p...\")\n",
        "    os.system(f\"ffmpeg -i {PATH_TO_YOUR_VIDEO} -vf scale=1280:720 /content/roop/video.mp4\")\n",
        "    PATH_TO_YOUR_VIDEO = \"/content/roop/video.mp4\"\n",
        "    print(\"Video resized to 720p\")\n",
        "else:\n",
        "    print(\"No resizing needed\")\n",
        "\n",
        "if upload_method == \"Upload\":\n",
        "  clear_output()\n",
        "  print(\"Wait For the Step To Finish and The Green Checkmark Appear\")\n",
        "  showVideo(PATH_TO_YOUR_VIDEO)\n",
        "else:\n",
        "    if os.path.isfile(PATH_TO_YOUR_VIDEO):\n",
        "        shutil.copyfile(PATH_TO_YOUR_VIDEO, \"/content/roop/video.mp4\")\n",
        "        print(\"Video\")\n",
        "        showVideo(PATH_TO_YOUR_VIDEO)"
      ],
      "metadata": {
        "id": "9B55-EZycqnz",
        "cellView": "form"
      },
      "execution_count": null,
      "outputs": []
    },
    {
      "cell_type": "code",
      "source": [
        "#@markdown ## Step 3 : Upload Face Image\n",
        "\n",
        "import os\n",
        "import shutil\n",
        "from google.colab import drive\n",
        "from google.colab import files\n",
        "from IPython.display import HTML, clear_output\n",
        "from base64 import b64encode\n",
        "import moviepy.editor as mp\n",
        "\n",
        "upload_method = \"Upload\" #@param [\"Upload\"]\n",
        "\n",
        "# remove previous input video\n",
        "if os.path.isfile('/content/roop/face.jpg'):\n",
        "    os.remove('/content/roop/face.jpg')\n",
        "\n",
        "if upload_method == \"Upload\":\n",
        "    uploaded = files.upload()\n",
        "    for filename in uploaded.keys():\n",
        "        os.rename(filename, '/content/roop/face.jpg')\n",
        "    PATH_TO_YOUR_IMAGE = '/content/roop/face.jpg'\n",
        "\n",
        "from IPython.display import clear_output\n",
        "clear_output()\n",
        "\n",
        "print(\"Face\")\n",
        "\n",
        "from IPython.display import Image\n",
        "Image(\"/content/roop/face.jpg\", width=320)"
      ],
      "metadata": {
        "id": "d8CstZO6gNlG",
        "cellView": "form"
      },
      "execution_count": null,
      "outputs": []
    },
    {
      "cell_type": "markdown",
      "source": [
        "---"
      ],
      "metadata": {
        "id": "ihAXPArSOypE"
      }
    },
    {
      "cell_type": "code",
      "source": [
        "#@markdown ## Step 4 : Creating Final Video\n",
        "%cd \"/content/roop\"\n",
        "!python run.py -s \"face.jpg\" -t \"video.mp4\" -o \"face_swapped_video.mp4\" --keep-frames --keep-fps --temp-frame-quality 30 --output-video-quality 30 --execution-provider cuda --frame-processor face_swapper face_enhancer\n",
        "\n",
        "#from IPython.display import clear_output\n",
        "#clear_output()\n",
        "\n",
        "#print(\"Finished\")\n",
        "\n",
        "\n",
        "#Show Generated Vieo\n",
        "from IPython.display import HTML\n",
        "from base64 import b64encode\n",
        "import os\n",
        "\n",
        "# Input video path\n",
        "video_path = \"/content/roop/face_swapped_video.mp4\"\n",
        "\n",
        "os.system(f\"ffmpeg -i {video_path}\")\n",
        "\n",
        "# Show video\n",
        "mp4 = open(video_path,'rb').read()\n",
        "data_url = \"data:video/mp4;base64,\" + b64encode(mp4).decode()\n",
        "HTML(\"\"\"\n",
        "<video width=320 controls>\n",
        "      <source src=\"%s\" type=\"video/mp4\">\n",
        "</video>\n",
        "\"\"\" % data_url)"
      ],
      "metadata": {
        "id": "_j18G_uPqc37",
        "cellView": "form"
      },
      "execution_count": null,
      "outputs": []
    },
    {
      "cell_type": "code",
      "source": [
        "#@markdown ## Step 5 : Download Final Video\n",
        "\n",
        "#Deleting Frames\n",
        "import os\n",
        "from os import listdir\n",
        "my_path = '/content/roop/temp/video/'\n",
        "for file_name in listdir(my_path):\n",
        "    if file_name.endswith('.png'):\n",
        "        os.remove(my_path + file_name)\n",
        "\n",
        "%cd \"/content/roop\"\n",
        "from google.colab import files\n",
        "files.download('/content/roop/face_swapped_video.mp4')"
      ],
      "metadata": {
        "cellView": "form",
        "id": "Yfjbm_uyLyHh"
      },
      "execution_count": null,
      "outputs": []
    }
  ]
}